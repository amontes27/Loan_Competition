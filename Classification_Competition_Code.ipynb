{
 "cells": [
  {
   "cell_type": "code",
   "execution_count": 1,
   "id": "e9e8ebcf",
   "metadata": {},
   "outputs": [],
   "source": [
    "import pandas as pd\n",
    "import numpy as np\n",
    "import seaborn as sns\n",
    "import matplotlib.pyplot as plt\n",
    "from sklearn.metrics import mean_squared_error\n",
    "from sklearn.model_selection import cross_val_score,train_test_split\n",
    "from sklearn.metrics import mean_squared_error,r2_score,roc_curve,auc\n",
    "from sklearn.model_selection import KFold\n",
    "\n",
    "import statsmodels.formula.api as smf\n",
    "import statsmodels.api as sm\n",
    "\n",
    "\n",
    "from sklearn.tree import DecisionTreeRegressor,DecisionTreeClassifier\n",
    "from sklearn.model_selection import GridSearchCV, ParameterGrid, StratifiedKFold\n",
    "from sklearn.ensemble import GradientBoostingClassifier,BaggingRegressor,BaggingClassifier,RandomForestRegressor,RandomForestClassifier, AdaBoostClassifier\n",
    "from sklearn.ensemble import VotingRegressor, VotingClassifier, StackingRegressor, StackingClassifier, GradientBoostingRegressor,GradientBoostingClassifier, BaggingRegressor,BaggingClassifier,RandomForestRegressor,RandomForestClassifier,AdaBoostRegressor,AdaBoostClassifier\n",
    "from sklearn.linear_model import LinearRegression,LogisticRegression\n",
    "from sklearn.neighbors import KNeighborsRegressor\n",
    "import xgboost as xgb\n",
    "import itertools as it\n",
    "from pyearth import Earth\n",
    "import time as time"
   ]
  },
  {
   "cell_type": "code",
   "execution_count": 2,
   "id": "d799664b",
   "metadata": {},
   "outputs": [],
   "source": [
    "train = pd.read_csv('train_classification.csv')\n",
    "test = pd.read_csv('test_regression.csv')"
   ]
  },
  {
   "cell_type": "code",
   "execution_count": 3,
   "id": "aa8832dc",
   "metadata": {},
   "outputs": [],
   "source": [
    "#merging full dataset for visualization and cleaning\n",
    "data = pd.concat([train, test], axis = 0)"
   ]
  },
  {
   "cell_type": "markdown",
   "id": "252b1cac",
   "metadata": {},
   "source": [
    "# Data viz + Cleaning"
   ]
  },
  {
   "cell_type": "code",
   "execution_count": 4,
   "id": "5865d387",
   "metadata": {
    "scrolled": true
   },
   "outputs": [
    {
     "data": {
      "text/plain": [
       "Index(['id', 'hi_int_prncp_pd', 'acc_now_delinq', 'acc_open_past_24mths',\n",
       "       'addr_state', 'annual_inc', 'application_type', 'avg_cur_bal',\n",
       "       'bc_util', 'delinq_2yrs', 'delinq_amnt', 'dti', 'earliest_cr_line',\n",
       "       'emp_length', 'emp_title', 'grade', 'home_ownership',\n",
       "       'initial_list_status', 'int_rate', 'last_credit_pull_d', 'loan_amnt',\n",
       "       'mort_acc', 'num_sats', 'num_tl_120dpd_2m', 'num_tl_90g_dpd_24m',\n",
       "       'num_tl_30dpd', 'out_prncp_inv', 'pub_rec', 'pub_rec_bankruptcies',\n",
       "       'purpose', 'sub_grade', 'term', 'tot_coll_amt', 'tot_cur_bal',\n",
       "       'total_rec_late_fee', 'verification_status'],\n",
       "      dtype='object')"
      ]
     },
     "execution_count": 4,
     "metadata": {},
     "output_type": "execute_result"
    }
   ],
   "source": [
    "data.columns"
   ]
  },
  {
   "cell_type": "code",
   "execution_count": 5,
   "id": "32c8f833",
   "metadata": {},
   "outputs": [
    {
     "data": {
      "text/plain": [
       "<seaborn.axisgrid.FacetGrid at 0x1817f5268b0>"
      ]
     },
     "execution_count": 5,
     "metadata": {},
     "output_type": "execute_result"
    },
    {
     "data": {
      "image/png": "[encoded data removed]",
      "text/plain": [
       "<Figure size 360x360 with 1 Axes>"
      ]
     },
     "metadata": {
      "needs_background": "light"
     },
     "output_type": "display_data"
    }
   ],
   "source": [
    "sns.catplot(data=data, x='hi_int_prncp_pd', kind='count')"
   ]
  },
  {
   "cell_type": "code",
   "execution_count": 6,
   "id": "6867b0c9",
   "metadata": {},
   "outputs": [
    {
     "data": {
      "text/plain": [
       "<AxesSubplot:xlabel='hi_int_prncp_pd', ylabel='acc_now_delinq'>"
      ]
     },
     "execution_count": 6,
     "metadata": {},
     "output_type": "execute_result"
    },
    {
     "data": {
      "image/png": "[encoded data removed]",
      "text/plain": [
       "<Figure size 432x288 with 1 Axes>"
      ]
     },
     "metadata": {
      "needs_background": "light"
     },
     "output_type": "display_data"
    }
   ],
   "source": [
    "sns.boxplot(data = data,  x = \"hi_int_prncp_pd\", y = \"acc_now_delinq\")"
   ]
  },
  {
   "cell_type": "code",
   "execution_count": 7,
   "id": "66dc10a5",
   "metadata": {},
   "outputs": [],
   "source": [
    "data['acc_now_delinq'].replace(2, 1, inplace = True)"
   ]
  },
  {
   "cell_type": "code",
   "execution_count": 8,
   "id": "f1c1ebd0",
   "metadata": {},
   "outputs": [
    {
     "data": {
      "text/plain": [
       "0    9551\n",
       "1      45\n",
       "Name: acc_now_delinq, dtype: int64"
      ]
     },
     "execution_count": 8,
     "metadata": {},
     "output_type": "execute_result"
    }
   ],
   "source": [
    "data['acc_now_delinq'].value_counts()"
   ]
  },
  {
   "cell_type": "code",
   "execution_count": 9,
   "id": "a2894048",
   "metadata": {
    "scrolled": true
   },
   "outputs": [
    {
     "data": {
      "text/plain": [
       "3     1450\n",
       "4     1368\n",
       "2     1298\n",
       "5     1084\n",
       "1      946\n",
       "6      870\n",
       "7      656\n",
       "8      483\n",
       "0      397\n",
       "9      324\n",
       "10     232\n",
       "11     152\n",
       "12     111\n",
       "13      70\n",
       "14      54\n",
       "15      24\n",
       "16      22\n",
       "18      16\n",
       "17      13\n",
       "22       6\n",
       "19       6\n",
       "21       3\n",
       "23       3\n",
       "28       2\n",
       "20       2\n",
       "24       2\n",
       "26       1\n",
       "25       1\n",
       "Name: acc_open_past_24mths, dtype: int64"
      ]
     },
     "execution_count": 9,
     "metadata": {},
     "output_type": "execute_result"
    }
   ],
   "source": [
    "data['acc_open_past_24mths'].value_counts()"
   ]
  },
  {
   "cell_type": "code",
   "execution_count": 10,
   "id": "ede76135",
   "metadata": {},
   "outputs": [],
   "source": [
    "cutoff = data['acc_open_past_24mths'].value_counts() <= 100\n",
    "\n",
    "\n",
    "mask_obs = data['acc_open_past_24mths'].value_counts()[cutoff].index\n",
    "mask_dict = dict.fromkeys(mask_obs, 13)\n",
    "\n",
    "data['acc_open_past_24mths'] = data['acc_open_past_24mths'].replace(mask_dict)"
   ]
  },
  {
   "cell_type": "code",
   "execution_count": 11,
   "id": "c5ae190b",
   "metadata": {},
   "outputs": [
    {
     "data": {
      "text/plain": [
       "3     1450\n",
       "4     1368\n",
       "2     1298\n",
       "5     1084\n",
       "1      946\n",
       "6      870\n",
       "7      656\n",
       "8      483\n",
       "0      397\n",
       "9      324\n",
       "10     232\n",
       "13     225\n",
       "11     152\n",
       "12     111\n",
       "Name: acc_open_past_24mths, dtype: int64"
      ]
     },
     "execution_count": 11,
     "metadata": {},
     "output_type": "execute_result"
    }
   ],
   "source": [
    "data['acc_open_past_24mths'].value_counts()"
   ]
  },
  {
   "cell_type": "code",
   "execution_count": 12,
   "id": "6199cbd0",
   "metadata": {
    "scrolled": true
   },
   "outputs": [
    {
     "data": {
      "text/plain": [
       "<AxesSubplot:xlabel='hi_int_prncp_pd', ylabel='acc_open_past_24mths'>"
      ]
     },
     "execution_count": 12,
     "metadata": {},
     "output_type": "execute_result"
    },
    {
     "data": {
      "image/png": "[encoded data removed]",
      "text/plain": [
       "<Figure size 432x288 with 1 Axes>"
      ]
     },
     "metadata": {
      "needs_background": "light"
     },
     "output_type": "display_data"
    }
   ],
   "source": [
    "sns.boxplot(data = data, x = \"hi_int_prncp_pd\", y = \"acc_open_past_24mths\")"
   ]
  },
  {
   "cell_type": "code",
   "execution_count": 13,
   "id": "6a57faca",
   "metadata": {
    "scrolled": true
   },
   "outputs": [
    {
     "data": {
      "text/plain": [
       "CA    1978\n",
       "NY    1059\n",
       "TX    1012\n",
       "FL     834\n",
       "NJ     400\n",
       "IL     376\n",
       "GA     343\n",
       "PA     325\n",
       "OH     315\n",
       "VA     246\n",
       "MI     224\n",
       "NC     221\n",
       "MA     205\n",
       "MD     187\n",
       "AZ     184\n",
       "CO     148\n",
       "WA     138\n",
       "MN     126\n",
       "MO     116\n",
       "CT     114\n",
       "IN     112\n",
       "TN     107\n",
       "NV      88\n",
       "AL      81\n",
       "OR      71\n",
       "LA      71\n",
       "SC      68\n",
       "WI      68\n",
       "KY      53\n",
       "OK      50\n",
       "KS      42\n",
       "AR      38\n",
       "MS      28\n",
       "UT      26\n",
       "NM      26\n",
       "NH      22\n",
       "RI      22\n",
       "HI      11\n",
       "DC      10\n",
       "NE       8\n",
       "WV       7\n",
       "ME       6\n",
       "VT       6\n",
       "DE       6\n",
       "WY       5\n",
       "MT       5\n",
       "ID       4\n",
       "ND       2\n",
       "AK       2\n",
       "Name: addr_state, dtype: int64"
      ]
     },
     "execution_count": 13,
     "metadata": {},
     "output_type": "execute_result"
    }
   ],
   "source": [
    "data['addr_state'].value_counts()"
   ]
  },
  {
   "cell_type": "code",
   "execution_count": 14,
   "id": "75b35f26",
   "metadata": {},
   "outputs": [],
   "source": [
    "#creating \"other\" category for states with less than 300 occurrances\n",
    "cutoff = data['addr_state'].value_counts() <= 300\n",
    "\n",
    "\n",
    "mask_obs = data['addr_state'].value_counts()[cutoff].index\n",
    "mask_dict = dict.fromkeys(mask_obs, 'other')\n",
    "\n",
    "data['addr_state'] = data['addr_state'].replace(mask_dict)"
   ]
  },
  {
   "cell_type": "code",
   "execution_count": 15,
   "id": "5588da85",
   "metadata": {},
   "outputs": [
    {
     "data": {
      "text/plain": [
       "other    2954\n",
       "CA       1978\n",
       "NY       1059\n",
       "TX       1012\n",
       "FL        834\n",
       "NJ        400\n",
       "IL        376\n",
       "GA        343\n",
       "PA        325\n",
       "OH        315\n",
       "Name: addr_state, dtype: int64"
      ]
     },
     "execution_count": 15,
     "metadata": {},
     "output_type": "execute_result"
    }
   ],
   "source": [
    "data['addr_state'].value_counts()"
   ]
  },
  {
   "cell_type": "code",
   "execution_count": 16,
   "id": "f049ff18",
   "metadata": {
    "scrolled": false
   },
   "outputs": [
    {
     "data": {
      "text/plain": [
       "<AxesSubplot:xlabel='hi_int_prncp_pd', ylabel='addr_state'>"
      ]
     },
     "execution_count": 16,
     "metadata": {},
     "output_type": "execute_result"
    },
    {
     "data": {
      "image/png": "[encoded data removed]",
      "text/plain": [
       "<Figure size 432x288 with 1 Axes>"
      ]
     },
     "metadata": {
      "needs_background": "light"
     },
     "output_type": "display_data"
    }
   ],
   "source": [
    "sns.barplot(data = data, x = \"hi_int_prncp_pd\", y = \"addr_state\")"
   ]
  },
  {
   "cell_type": "code",
   "execution_count": 17,
   "id": "a1d11194",
   "metadata": {},
   "outputs": [
    {
     "data": {
      "text/plain": [
       "count    9.596000e+03\n",
       "mean     8.657562e+04\n",
       "std      1.061851e+05\n",
       "min      1.000000e+04\n",
       "25%      5.200000e+04\n",
       "50%      7.100000e+04\n",
       "75%      1.000000e+05\n",
       "max      6.200000e+06\n",
       "Name: annual_inc, dtype: float64"
      ]
     },
     "execution_count": 17,
     "metadata": {},
     "output_type": "execute_result"
    }
   ],
   "source": [
    "data['annual_inc'].describe()"
   ]
  },
  {
   "cell_type": "code",
   "execution_count": 18,
   "id": "09820b5e",
   "metadata": {},
   "outputs": [
    {
     "data": {
      "text/plain": [
       "<AxesSubplot:xlabel='annual_inc', ylabel='hi_int_prncp_pd'>"
      ]
     },
     "execution_count": 18,
     "metadata": {},
     "output_type": "execute_result"
    },
    {
     "data": {
      "image/png": "[encoded data removed]",
      "text/plain": [
       "<Figure size 432x288 with 1 Axes>"
      ]
     },
     "metadata": {
      "needs_background": "light"
     },
     "output_type": "display_data"
    }
   ],
   "source": [
    "sns.scatterplot(data = data, x = \"annual_inc\", y = \"hi_int_prncp_pd\")"
   ]
  },
  {
   "cell_type": "code",
   "execution_count": 19,
   "id": "d0178d15",
   "metadata": {
    "scrolled": true
   },
   "outputs": [
    {
     "data": {
      "text/plain": [
       "<AxesSubplot:xlabel='hi_int_prncp_pd', ylabel='annual_inc'>"
      ]
     },
     "execution_count": 19,
     "metadata": {},
     "output_type": "execute_result"
    },
    {
     "data": {
      "image/png": "[encoded data removed]",
      "text/plain": [
       "<Figure size 432x288 with 1 Axes>"
      ]
     },
     "metadata": {
      "needs_background": "light"
     },
     "output_type": "display_data"
    }
   ],
   "source": [
    "sns.barplot(data = data, x = \"hi_int_prncp_pd\", y = \"annual_inc\")"
   ]
  },
  {
   "cell_type": "code",
   "execution_count": 20,
   "id": "98df4e03",
   "metadata": {
    "scrolled": false
   },
   "outputs": [
    {
     "data": {
      "text/plain": [
       "Individual    9429\n",
       "Joint App      167\n",
       "Name: application_type, dtype: int64"
      ]
     },
     "execution_count": 20,
     "metadata": {},
     "output_type": "execute_result"
    }
   ],
   "source": [
    "data['application_type'].value_counts()"
   ]
  },
  {
   "cell_type": "code",
   "execution_count": 21,
   "id": "f404f5d0",
   "metadata": {
    "scrolled": true
   },
   "outputs": [
    {
     "data": {
      "text/plain": [
       "<AxesSubplot:xlabel='avg_cur_bal', ylabel='hi_int_prncp_pd'>"
      ]
     },
     "execution_count": 21,
     "metadata": {},
     "output_type": "execute_result"
    },
    {
     "data": {
      "image/png": "[encoded data removed]",
      "text/plain": [
       "<Figure size 432x288 with 1 Axes>"
      ]
     },
     "metadata": {
      "needs_background": "light"
     },
     "output_type": "display_data"
    }
   ],
   "source": [
    "sns.scatterplot(data = data, x = \"avg_cur_bal\", y = \"hi_int_prncp_pd\")"
   ]
  },
  {
   "cell_type": "code",
   "execution_count": 22,
   "id": "84e58ad5",
   "metadata": {
    "scrolled": false
   },
   "outputs": [
    {
     "data": {
      "text/plain": [
       "<AxesSubplot:xlabel='hi_int_prncp_pd', ylabel='avg_cur_bal'>"
      ]
     },
     "execution_count": 22,
     "metadata": {},
     "output_type": "execute_result"
    },
    {
     "data": {
      "image/png": "[encoded data removed]",
      "text/plain": [
       "<Figure size 432x288 with 1 Axes>"
      ]
     },
     "metadata": {
      "needs_background": "light"
     },
     "output_type": "display_data"
    }
   ],
   "source": [
    "sns.boxplot(data = data, x = \"hi_int_prncp_pd\", y = \"avg_cur_bal\")"
   ]
  },
  {
   "cell_type": "code",
   "execution_count": 23,
   "id": "f2499966",
   "metadata": {},
   "outputs": [
    {
     "data": {
      "text/plain": [
       "<AxesSubplot:xlabel='hi_int_prncp_pd', ylabel='avg_cur_bal'>"
      ]
     },
     "execution_count": 23,
     "metadata": {},
     "output_type": "execute_result"
    },
    {
     "data": {
      "image/png": "[encoded data removed]",
      "text/plain": [
       "<Figure size 432x288 with 1 Axes>"
      ]
     },
     "metadata": {
      "needs_background": "light"
     },
     "output_type": "display_data"
    }
   ],
   "source": [
    "sns.barplot(data = data, x = \"hi_int_prncp_pd\", y = \"avg_cur_bal\")"
   ]
  },
  {
   "cell_type": "code",
   "execution_count": 24,
   "id": "d2f1ddaa",
   "metadata": {},
   "outputs": [
    {
     "data": {
      "text/plain": [
       "<AxesSubplot:xlabel='bc_util', ylabel='hi_int_prncp_pd'>"
      ]
     },
     "execution_count": 24,
     "metadata": {},
     "output_type": "execute_result"
    },
    {
     "data": {
      "image/png": "[encoded data removed]",
      "text/plain": [
       "<Figure size 432x288 with 1 Axes>"
      ]
     },
     "metadata": {
      "needs_background": "light"
     },
     "output_type": "display_data"
    }
   ],
   "source": [
    "sns.scatterplot(data = data, x = \"bc_util\", y = \"hi_int_prncp_pd\")"
   ]
  },
  {
   "cell_type": "code",
   "execution_count": 25,
   "id": "8e230f68",
   "metadata": {
    "scrolled": true
   },
   "outputs": [
    {
     "data": {
      "text/plain": [
       "<AxesSubplot:xlabel='hi_int_prncp_pd', ylabel='bc_util'>"
      ]
     },
     "execution_count": 25,
     "metadata": {},
     "output_type": "execute_result"
    },
    {
     "data": {
      "image/png": "[encoded data removed]",
      "text/plain": [
       "<Figure size 432x288 with 1 Axes>"
      ]
     },
     "metadata": {
      "needs_background": "light"
     },
     "output_type": "display_data"
    }
   ],
   "source": [
    "sns.boxplot(data = data, x = \"hi_int_prncp_pd\", y = \"bc_util\")"
   ]
  },
  {
   "cell_type": "code",
   "execution_count": 26,
   "id": "6ea97b05",
   "metadata": {},
   "outputs": [
    {
     "data": {
      "text/plain": [
       "0     7774\n",
       "1     1207\n",
       "2      365\n",
       "3      117\n",
       "4       47\n",
       "5       39\n",
       "6       23\n",
       "7       10\n",
       "10       4\n",
       "9        3\n",
       "8        2\n",
       "14       2\n",
       "18       1\n",
       "12       1\n",
       "13       1\n",
       "Name: delinq_2yrs, dtype: int64"
      ]
     },
     "execution_count": 26,
     "metadata": {},
     "output_type": "execute_result"
    }
   ],
   "source": [
    "data['delinq_2yrs'].value_counts()"
   ]
  },
  {
   "cell_type": "code",
   "execution_count": 27,
   "id": "136d49d3",
   "metadata": {},
   "outputs": [],
   "source": [
    "cutoff = data['delinq_2yrs'].value_counts() <= 100\n",
    "\n",
    "\n",
    "mask_obs = data['delinq_2yrs'].value_counts()[cutoff].index\n",
    "mask_dict = dict.fromkeys(mask_obs, 4)\n",
    "\n",
    "data['delinq_2yrs'] = data['delinq_2yrs'].replace(mask_dict)"
   ]
  },
  {
   "cell_type": "code",
   "execution_count": 28,
   "id": "b4686ff1",
   "metadata": {
    "scrolled": true
   },
   "outputs": [
    {
     "data": {
      "text/plain": [
       "0    7774\n",
       "1    1207\n",
       "2     365\n",
       "4     133\n",
       "3     117\n",
       "Name: delinq_2yrs, dtype: int64"
      ]
     },
     "execution_count": 28,
     "metadata": {},
     "output_type": "execute_result"
    }
   ],
   "source": [
    "data['delinq_2yrs'].value_counts()"
   ]
  },
  {
   "cell_type": "code",
   "execution_count": 29,
   "id": "8d959a7a",
   "metadata": {
    "scrolled": true
   },
   "outputs": [
    {
     "data": {
      "text/plain": [
       "<AxesSubplot:xlabel='hi_int_prncp_pd', ylabel='delinq_2yrs'>"
      ]
     },
     "execution_count": 29,
     "metadata": {},
     "output_type": "execute_result"
    },
    {
     "data": {
      "image/png": "[encoded data removed]",
      "text/plain": [
       "<Figure size 432x288 with 1 Axes>"
      ]
     },
     "metadata": {
      "needs_background": "light"
     },
     "output_type": "display_data"
    }
   ],
   "source": [
    "sns.boxplot(data = data, x = \"hi_int_prncp_pd\", y = \"delinq_2yrs\")"
   ]
  },
  {
   "cell_type": "code",
   "execution_count": 30,
   "id": "4b79199e",
   "metadata": {},
   "outputs": [
    {
     "data": {
      "text/plain": [
       "<AxesSubplot:xlabel='hi_int_prncp_pd', ylabel='delinq_2yrs'>"
      ]
     },
     "execution_count": 30,
     "metadata": {},
     "output_type": "execute_result"
    },
    {
     "data": {
      "image/png": "[encoded data removed]",
      "text/plain": [
       "<Figure size 432x288 with 1 Axes>"
      ]
     },
     "metadata": {
      "needs_background": "light"
     },
     "output_type": "display_data"
    }
   ],
   "source": [
    "sns.barplot(data = data, x = \"hi_int_prncp_pd\", y = \"delinq_2yrs\")"
   ]
  },
  {
   "cell_type": "code",
   "execution_count": 31,
   "id": "ab86f590",
   "metadata": {
    "scrolled": true
   },
   "outputs": [
    {
     "data": {
      "text/plain": [
       "<AxesSubplot:xlabel='hi_int_prncp_pd', ylabel='delinq_amnt'>"
      ]
     },
     "execution_count": 31,
     "metadata": {},
     "output_type": "execute_result"
    },
    {
     "data": {
      "image/png": "[encoded data removed]",
      "text/plain": [
       "<Figure size 432x288 with 1 Axes>"
      ]
     },
     "metadata": {
      "needs_background": "light"
     },
     "output_type": "display_data"
    }
   ],
   "source": [
    "sns.boxplot(data = data, x = \"hi_int_prncp_pd\", y = \"delinq_amnt\")"
   ]
  },
  {
   "cell_type": "code",
   "execution_count": 32,
   "id": "8e930fcf",
   "metadata": {},
   "outputs": [
    {
     "data": {
      "text/plain": [
       "<AxesSubplot:xlabel='hi_int_prncp_pd', ylabel='delinq_amnt'>"
      ]
     },
     "execution_count": 32,
     "metadata": {},
     "output_type": "execute_result"
    },
    {
     "data": {
      "image/png": "[encoded data removed]",
      "text/plain": [
       "<Figure size 432x288 with 1 Axes>"
      ]
     },
     "metadata": {
      "needs_background": "light"
     },
     "output_type": "display_data"
    }
   ],
   "source": [
    "sns.barplot(data = data, x = \"hi_int_prncp_pd\", y = \"delinq_amnt\")"
   ]
  },
  {
   "cell_type": "code",
   "execution_count": 33,
   "id": "51046a64",
   "metadata": {},
   "outputs": [
    {
     "data": {
      "text/plain": [
       "<AxesSubplot:xlabel='dti', ylabel='hi_int_prncp_pd'>"
      ]
     },
     "execution_count": 33,
     "metadata": {},
     "output_type": "execute_result"
    },
    {
     "data": {
      "image/png": "[encoded data removed]",
      "text/plain": [
       "<Figure size 432x288 with 1 Axes>"
      ]
     },
     "metadata": {
      "needs_background": "light"
     },
     "output_type": "display_data"
    }
   ],
   "source": [
    "sns.scatterplot(data = data, x = \"dti\", y = \"hi_int_prncp_pd\")"
   ]
  },
  {
   "cell_type": "code",
   "execution_count": 34,
   "id": "ae6029d3",
   "metadata": {},
   "outputs": [
    {
     "data": {
      "text/plain": [
       "<AxesSubplot:xlabel='hi_int_prncp_pd', ylabel='dti'>"
      ]
     },
     "execution_count": 34,
     "metadata": {},
     "output_type": "execute_result"
    },
    {
     "data": {
      "image/png": "[encoded data removed]",
      "text/plain": [
       "<Figure size 432x288 with 1 Axes>"
      ]
     },
     "metadata": {
      "needs_background": "light"
     },
     "output_type": "display_data"
    }
   ],
   "source": [
    "sns.boxplot(data = data, x = \"hi_int_prncp_pd\", y = \"dti\")"
   ]
  },
  {
   "cell_type": "code",
   "execution_count": 35,
   "id": "4d084573",
   "metadata": {},
   "outputs": [
    {
     "data": {
      "text/plain": [
       "count         9596\n",
       "unique         537\n",
       "top       Aug-2002\n",
       "freq            75\n",
       "Name: earliest_cr_line, dtype: object"
      ]
     },
     "execution_count": 35,
     "metadata": {},
     "output_type": "execute_result"
    }
   ],
   "source": [
    "data['earliest_cr_line'].describe()"
   ]
  },
  {
   "cell_type": "code",
   "execution_count": 36,
   "id": "9199047c",
   "metadata": {},
   "outputs": [
    {
     "data": {
      "text/plain": [
       "10+ years    3519\n",
       "2 years       942\n",
       "3 years       828\n",
       "< 1 year      731\n",
       "5 years       645\n",
       "1 year        625\n",
       "4 years       619\n",
       "6 years       459\n",
       "7 years       423\n",
       "8 years       414\n",
       "9 years       387\n",
       "Name: emp_length, dtype: int64"
      ]
     },
     "execution_count": 36,
     "metadata": {},
     "output_type": "execute_result"
    }
   ],
   "source": [
    "data['emp_length'].value_counts()"
   ]
  },
  {
   "cell_type": "code",
   "execution_count": 37,
   "id": "a3ccde02",
   "metadata": {
    "scrolled": true
   },
   "outputs": [
    {
     "data": {
      "text/plain": [
       "<AxesSubplot:xlabel='hi_int_prncp_pd', ylabel='emp_length'>"
      ]
     },
     "execution_count": 37,
     "metadata": {},
     "output_type": "execute_result"
    },
    {
     "data": {
      "image/png": "[encoded data removed]",
      "text/plain": [
       "<Figure size 432x288 with 1 Axes>"
      ]
     },
     "metadata": {
      "needs_background": "light"
     },
     "output_type": "display_data"
    }
   ],
   "source": [
    "sns.barplot(data = data, x = \"hi_int_prncp_pd\", y = \"emp_length\")"
   ]
  },
  {
   "cell_type": "code",
   "execution_count": 38,
   "id": "9e6e7dbb",
   "metadata": {
    "scrolled": true
   },
   "outputs": [
    {
     "data": {
      "text/plain": [
       "Teacher                          708\n",
       "Manager                          695\n",
       "Owner                            413\n",
       "Supervisor                       298\n",
       "Registered Nurse                 284\n",
       "                                ... \n",
       "Talent Acquisition Specialist      1\n",
       "Production Control                 1\n",
       "Risk Manager                       1\n",
       "Billing                            1\n",
       "Staff Attorney                     1\n",
       "Name: emp_title, Length: 964, dtype: int64"
      ]
     },
     "execution_count": 38,
     "metadata": {},
     "output_type": "execute_result"
    }
   ],
   "source": [
    "data['emp_title'].value_counts()"
   ]
  },
  {
   "cell_type": "code",
   "execution_count": 39,
   "id": "14126b92",
   "metadata": {},
   "outputs": [],
   "source": [
    "#creating \"other\" category for titles with less than 200 occurrances\n",
    "cutoff = data['emp_title'].value_counts() < 200\n",
    "\n",
    "\n",
    "mask_obs = data['emp_title'].value_counts()[cutoff].index\n",
    "mask_dict = dict.fromkeys(mask_obs, 'other')\n",
    "\n",
    "data['emp_title'] = data['emp_title'].replace(mask_dict)"
   ]
  },
  {
   "cell_type": "code",
   "execution_count": 40,
   "id": "6e2ad2f9",
   "metadata": {},
   "outputs": [
    {
     "data": {
      "text/plain": [
       "other               6483\n",
       "Teacher              708\n",
       "Manager              695\n",
       "Owner                413\n",
       "Supervisor           298\n",
       "Registered Nurse     284\n",
       "Driver               267\n",
       "RN                   231\n",
       "Sales                217\n",
       "Name: emp_title, dtype: int64"
      ]
     },
     "execution_count": 40,
     "metadata": {},
     "output_type": "execute_result"
    }
   ],
   "source": [
    "data['emp_title'].value_counts()"
   ]
  },
  {
   "cell_type": "code",
   "execution_count": 41,
   "id": "b3b5af98",
   "metadata": {
    "scrolled": false
   },
   "outputs": [
    {
     "data": {
      "text/plain": [
       "<AxesSubplot:xlabel='hi_int_prncp_pd', ylabel='emp_title'>"
      ]
     },
     "execution_count": 41,
     "metadata": {},
     "output_type": "execute_result"
    },
    {
     "data": {
      "image/png": "[encoded data removed]",
      "text/plain": [
       "<Figure size 432x288 with 1 Axes>"
      ]
     },
     "metadata": {
      "needs_background": "light"
     },
     "output_type": "display_data"
    }
   ],
   "source": [
    "sns.barplot(data = data, x = \"hi_int_prncp_pd\", y = \"emp_title\")"
   ]
  },
  {
   "cell_type": "code",
   "execution_count": 42,
   "id": "d904d425",
   "metadata": {
    "scrolled": false
   },
   "outputs": [
    {
     "data": {
      "text/plain": [
       "<AxesSubplot:xlabel='hi_int_prncp_pd', ylabel='grade'>"
      ]
     },
     "execution_count": 42,
     "metadata": {},
     "output_type": "execute_result"
    },
    {
     "data": {
      "image/png": "[encoded data removed]",
      "text/plain": [
       "<Figure size 432x288 with 1 Axes>"
      ]
     },
     "metadata": {
      "needs_background": "light"
     },
     "output_type": "display_data"
    }
   ],
   "source": [
    "sns.barplot(data = data, x = \"hi_int_prncp_pd\", y = \"grade\")"
   ]
  },
  {
   "cell_type": "code",
   "execution_count": 43,
   "id": "08017732",
   "metadata": {
    "scrolled": true
   },
   "outputs": [
    {
     "data": {
      "text/plain": [
       "<AxesSubplot:xlabel='hi_int_prncp_pd', ylabel='home_ownership'>"
      ]
     },
     "execution_count": 43,
     "metadata": {},
     "output_type": "execute_result"
    },
    {
     "data": {
      "image/png": "[encoded data removed]",
      "text/plain": [
       "<Figure size 432x288 with 1 Axes>"
      ]
     },
     "metadata": {
      "needs_background": "light"
     },
     "output_type": "display_data"
    }
   ],
   "source": [
    "sns.barplot(data = data, x = \"hi_int_prncp_pd\", y = \"home_ownership\")"
   ]
  },
  {
   "cell_type": "code",
   "execution_count": 44,
   "id": "548a8c3e",
   "metadata": {},
   "outputs": [
    {
     "data": {
      "text/plain": [
       "<AxesSubplot:xlabel='hi_int_prncp_pd', ylabel='initial_list_status'>"
      ]
     },
     "execution_count": 44,
     "metadata": {},
     "output_type": "execute_result"
    },
    {
     "data": {
      "image/png": "[encoded data removed]",
      "text/plain": [
       "<Figure size 432x288 with 1 Axes>"
      ]
     },
     "metadata": {
      "needs_background": "light"
     },
     "output_type": "display_data"
    }
   ],
   "source": [
    "sns.barplot(data = data, x = \"hi_int_prncp_pd\", y = \"initial_list_status\")"
   ]
  },
  {
   "cell_type": "code",
   "execution_count": 45,
   "id": "80c21b91",
   "metadata": {
    "scrolled": true
   },
   "outputs": [
    {
     "data": {
      "text/plain": [
       "<AxesSubplot:xlabel='hi_int_prncp_pd', ylabel='int_rate'>"
      ]
     },
     "execution_count": 45,
     "metadata": {},
     "output_type": "execute_result"
    },
    {
     "data": {
      "image/png": "[encoded data removed]",
      "text/plain": [
       "<Figure size 432x288 with 1 Axes>"
      ]
     },
     "metadata": {
      "needs_background": "light"
     },
     "output_type": "display_data"
    }
   ],
   "source": [
    "sns.boxplot(data = data, x = \"hi_int_prncp_pd\", y = \"int_rate\")"
   ]
  },
  {
   "cell_type": "code",
   "execution_count": 46,
   "id": "b3502fe0",
   "metadata": {
    "scrolled": true
   },
   "outputs": [
    {
     "data": {
      "text/plain": [
       "<AxesSubplot:xlabel='hi_int_prncp_pd', ylabel='loan_amnt'>"
      ]
     },
     "execution_count": 46,
     "metadata": {},
     "output_type": "execute_result"
    },
    {
     "data": {
      "image/png": "[encoded data removed]",
      "text/plain": [
       "<Figure size 432x288 with 1 Axes>"
      ]
     },
     "metadata": {
      "needs_background": "light"
     },
     "output_type": "display_data"
    }
   ],
   "source": [
    "sns.boxplot(data = data, x = \"hi_int_prncp_pd\", y = \"loan_amnt\")"
   ]
  },
  {
   "cell_type": "code",
   "execution_count": 47,
   "id": "c54b0cea",
   "metadata": {},
   "outputs": [
    {
     "data": {
      "text/plain": [
       "0     4101\n",
       "1     1728\n",
       "2     1484\n",
       "3      982\n",
       "4      611\n",
       "5      348\n",
       "6      159\n",
       "7       83\n",
       "8       48\n",
       "9       24\n",
       "10       9\n",
       "13       5\n",
       "11       4\n",
       "12       3\n",
       "14       2\n",
       "19       1\n",
       "18       1\n",
       "41       1\n",
       "17       1\n",
       "15       1\n",
       "Name: mort_acc, dtype: int64"
      ]
     },
     "execution_count": 47,
     "metadata": {},
     "output_type": "execute_result"
    }
   ],
   "source": [
    "data['mort_acc'].value_counts()"
   ]
  },
  {
   "cell_type": "code",
   "execution_count": 48,
   "id": "33b8cfef",
   "metadata": {},
   "outputs": [],
   "source": [
    "cutoff = data['mort_acc'].value_counts() < 10\n",
    "\n",
    "\n",
    "mask_obs = data['mort_acc'].value_counts()[cutoff].index\n",
    "mask_dict = dict.fromkeys(mask_obs, 10)\n",
    "\n",
    "data['mort_acc'] = data['mort_acc'].replace(mask_dict)"
   ]
  },
  {
   "cell_type": "code",
   "execution_count": 49,
   "id": "96ff9ba7",
   "metadata": {},
   "outputs": [
    {
     "data": {
      "text/plain": [
       "0     4101\n",
       "1     1728\n",
       "2     1484\n",
       "3      982\n",
       "4      611\n",
       "5      348\n",
       "6      159\n",
       "7       83\n",
       "8       48\n",
       "10      28\n",
       "9       24\n",
       "Name: mort_acc, dtype: int64"
      ]
     },
     "execution_count": 49,
     "metadata": {},
     "output_type": "execute_result"
    }
   ],
   "source": [
    "data['mort_acc'].value_counts()"
   ]
  },
  {
   "cell_type": "code",
   "execution_count": 50,
   "id": "08656f97",
   "metadata": {},
   "outputs": [
    {
     "data": {
      "text/plain": [
       "<AxesSubplot:xlabel='hi_int_prncp_pd', ylabel='mort_acc'>"
      ]
     },
     "execution_count": 50,
     "metadata": {},
     "output_type": "execute_result"
    },
    {
     "data": {
      "image/png": "[encoded data removed]",
      "text/plain": [
       "<Figure size 432x288 with 1 Axes>"
      ]
     },
     "metadata": {
      "needs_background": "light"
     },
     "output_type": "display_data"
    }
   ],
   "source": [
    "sns.boxplot(data = data, x = \"hi_int_prncp_pd\", y = \"mort_acc\")"
   ]
  },
  {
   "cell_type": "code",
   "execution_count": 51,
   "id": "79fce342",
   "metadata": {
    "scrolled": true
   },
   "outputs": [
    {
     "data": {
      "text/plain": [
       "<AxesSubplot:xlabel='hi_int_prncp_pd', ylabel='num_sats'>"
      ]
     },
     "execution_count": 51,
     "metadata": {},
     "output_type": "execute_result"
    },
    {
     "data": {
      "image/png": "[encoded data removed]",
      "text/plain": [
       "<Figure size 432x288 with 1 Axes>"
      ]
     },
     "metadata": {
      "needs_background": "light"
     },
     "output_type": "display_data"
    }
   ],
   "source": [
    "sns.boxplot(data = data, x = \"hi_int_prncp_pd\", y = \"num_sats\")"
   ]
  },
  {
   "cell_type": "code",
   "execution_count": 52,
   "id": "f0920390",
   "metadata": {},
   "outputs": [
    {
     "data": {
      "text/plain": [
       "0    9590\n",
       "1       5\n",
       "2       1\n",
       "Name: num_tl_120dpd_2m, dtype: int64"
      ]
     },
     "execution_count": 52,
     "metadata": {},
     "output_type": "execute_result"
    }
   ],
   "source": [
    "data['num_tl_120dpd_2m'].value_counts()"
   ]
  },
  {
   "cell_type": "code",
   "execution_count": 53,
   "id": "c7e04f4d",
   "metadata": {},
   "outputs": [
    {
     "data": {
      "text/plain": [
       "0    9563\n",
       "1      30\n",
       "2       3\n",
       "Name: num_tl_30dpd, dtype: int64"
      ]
     },
     "execution_count": 53,
     "metadata": {},
     "output_type": "execute_result"
    }
   ],
   "source": [
    "data['num_tl_30dpd'].value_counts()"
   ]
  },
  {
   "cell_type": "code",
   "execution_count": 54,
   "id": "06faf7a1",
   "metadata": {},
   "outputs": [
    {
     "data": {
      "text/plain": [
       "0     9073\n",
       "1      409\n",
       "2       59\n",
       "3       21\n",
       "4       15\n",
       "6        5\n",
       "5        4\n",
       "7        2\n",
       "8        1\n",
       "9        1\n",
       "10       1\n",
       "11       1\n",
       "12       1\n",
       "13       1\n",
       "14       1\n",
       "15       1\n",
       "Name: num_tl_90g_dpd_24m, dtype: int64"
      ]
     },
     "execution_count": 54,
     "metadata": {},
     "output_type": "execute_result"
    }
   ],
   "source": [
    "data['num_tl_90g_dpd_24m'].value_counts()"
   ]
  },
  {
   "cell_type": "code",
   "execution_count": 55,
   "id": "0c94774b",
   "metadata": {
    "scrolled": true
   },
   "outputs": [
    {
     "data": {
      "text/plain": [
       "<AxesSubplot:xlabel='hi_int_prncp_pd', ylabel='num_tl_90g_dpd_24m'>"
      ]
     },
     "execution_count": 55,
     "metadata": {},
     "output_type": "execute_result"
    },
    {
     "data": {
      "image/png": "[encoded data removed]",
      "text/plain": [
       "<Figure size 432x288 with 1 Axes>"
      ]
     },
     "metadata": {
      "needs_background": "light"
     },
     "output_type": "display_data"
    }
   ],
   "source": [
    "sns.boxplot(data = data, x = \"hi_int_prncp_pd\", y = \"num_tl_90g_dpd_24m\")"
   ]
  },
  {
   "cell_type": "code",
   "execution_count": 56,
   "id": "ba23024a",
   "metadata": {},
   "outputs": [
    {
     "data": {
      "text/plain": [
       "<AxesSubplot:xlabel='hi_int_prncp_pd', ylabel='out_prncp_inv'>"
      ]
     },
     "execution_count": 56,
     "metadata": {},
     "output_type": "execute_result"
    },
    {
     "data": {
      "image/png": "[encoded data removed]",
      "text/plain": [
       "<Figure size 432x288 with 1 Axes>"
      ]
     },
     "metadata": {
      "needs_background": "light"
     },
     "output_type": "display_data"
    }
   ],
   "source": [
    "sns.boxplot(data = data, x = \"hi_int_prncp_pd\", y = \"out_prncp_inv\")"
   ]
  },
  {
   "cell_type": "code",
   "execution_count": 57,
   "id": "f96ae671",
   "metadata": {},
   "outputs": [
    {
     "data": {
      "text/plain": [
       "0    8144\n",
       "1    1206\n",
       "2     172\n",
       "3      33\n",
       "4      20\n",
       "5      11\n",
       "8       3\n",
       "7       3\n",
       "9       2\n",
       "6       2\n",
       "Name: pub_rec, dtype: int64"
      ]
     },
     "execution_count": 57,
     "metadata": {},
     "output_type": "execute_result"
    }
   ],
   "source": [
    "data['pub_rec'].value_counts()"
   ]
  },
  {
   "cell_type": "code",
   "execution_count": 58,
   "id": "53da03aa",
   "metadata": {},
   "outputs": [],
   "source": [
    "cutoff = data['pub_rec'].value_counts() < 150\n",
    "\n",
    "\n",
    "mask_obs = data['pub_rec'].value_counts()[cutoff].index\n",
    "mask_dict = dict.fromkeys(mask_obs, 2)\n",
    "\n",
    "data['pub_rec'] = data['pub_rec'].replace(mask_dict)"
   ]
  },
  {
   "cell_type": "code",
   "execution_count": 59,
   "id": "23e1ab1b",
   "metadata": {},
   "outputs": [
    {
     "data": {
      "text/plain": [
       "0    8144\n",
       "1    1206\n",
       "2     246\n",
       "Name: pub_rec, dtype: int64"
      ]
     },
     "execution_count": 59,
     "metadata": {},
     "output_type": "execute_result"
    }
   ],
   "source": [
    "data['pub_rec'].value_counts()"
   ]
  },
  {
   "cell_type": "code",
   "execution_count": 60,
   "id": "dde31781",
   "metadata": {
    "scrolled": true
   },
   "outputs": [
    {
     "data": {
      "text/plain": [
       "<AxesSubplot:xlabel='hi_int_prncp_pd', ylabel='pub_rec'>"
      ]
     },
     "execution_count": 60,
     "metadata": {},
     "output_type": "execute_result"
    },
    {
     "data": {
      "image/png": "[encoded data removed]",
      "text/plain": [
       "<Figure size 432x288 with 1 Axes>"
      ]
     },
     "metadata": {
      "needs_background": "light"
     },
     "output_type": "display_data"
    }
   ],
   "source": [
    "sns.boxplot(data = data, x = \"hi_int_prncp_pd\", y = \"pub_rec\")"
   ]
  },
  {
   "cell_type": "code",
   "execution_count": 61,
   "id": "7e49c70e",
   "metadata": {},
   "outputs": [
    {
     "data": {
      "text/plain": [
       "<AxesSubplot:xlabel='hi_int_prncp_pd', ylabel='pub_rec'>"
      ]
     },
     "execution_count": 61,
     "metadata": {},
     "output_type": "execute_result"
    },
    {
     "data": {
      "image/png": "[encoded data removed]",
      "text/plain": [
       "<Figure size 432x288 with 1 Axes>"
      ]
     },
     "metadata": {
      "needs_background": "light"
     },
     "output_type": "display_data"
    }
   ],
   "source": [
    "sns.barplot(data = data, x = \"hi_int_prncp_pd\", y = \"pub_rec\")"
   ]
  },
  {
   "cell_type": "code",
   "execution_count": 62,
   "id": "89c30b62",
   "metadata": {},
   "outputs": [
    {
     "data": {
      "text/plain": [
       "0    8518\n",
       "1    1016\n",
       "2      50\n",
       "3       9\n",
       "5       2\n",
       "7       1\n",
       "Name: pub_rec_bankruptcies, dtype: int64"
      ]
     },
     "execution_count": 62,
     "metadata": {},
     "output_type": "execute_result"
    }
   ],
   "source": [
    "data['pub_rec_bankruptcies'].value_counts()"
   ]
  },
  {
   "cell_type": "code",
   "execution_count": 63,
   "id": "0c4b0349",
   "metadata": {},
   "outputs": [],
   "source": [
    "# effectively turning predictor into dummy variable by combining all non-zero categories\n",
    "cutoff = data['pub_rec_bankruptcies'].value_counts() < 1000\n",
    "\n",
    "\n",
    "mask_obs = data['pub_rec_bankruptcies'].value_counts()[cutoff].index\n",
    "mask_dict = dict.fromkeys(mask_obs, 1)\n",
    "\n",
    "data['pub_rec_bankruptcies'] = data['pub_rec_bankruptcies'].replace(mask_dict)"
   ]
  },
  {
   "cell_type": "code",
   "execution_count": 64,
   "id": "9aa5d2c4",
   "metadata": {},
   "outputs": [
    {
     "data": {
      "text/plain": [
       "0    8518\n",
       "1    1078\n",
       "Name: pub_rec_bankruptcies, dtype: int64"
      ]
     },
     "execution_count": 64,
     "metadata": {},
     "output_type": "execute_result"
    }
   ],
   "source": [
    "data['pub_rec_bankruptcies'].value_counts()"
   ]
  },
  {
   "cell_type": "code",
   "execution_count": 65,
   "id": "55c08a7a",
   "metadata": {},
   "outputs": [
    {
     "data": {
      "text/plain": [
       "<AxesSubplot:xlabel='hi_int_prncp_pd', ylabel='pub_rec_bankruptcies'>"
      ]
     },
     "execution_count": 65,
     "metadata": {},
     "output_type": "execute_result"
    },
    {
     "data": {
      "image/png": "[encoded data removed]",
      "text/plain": [
       "<Figure size 432x288 with 1 Axes>"
      ]
     },
     "metadata": {
      "needs_background": "light"
     },
     "output_type": "display_data"
    }
   ],
   "source": [
    "sns.barplot(data = data, x = \"hi_int_prncp_pd\", y = \"pub_rec_bankruptcies\")"
   ]
  },
  {
   "cell_type": "code",
   "execution_count": 66,
   "id": "47298260",
   "metadata": {},
   "outputs": [
    {
     "data": {
      "text/plain": [
       "debt_consolidation    5429\n",
       "credit_card           2235\n",
       "home_improvement       640\n",
       "other                  527\n",
       "major_purchase         242\n",
       "small_business         141\n",
       "medical                103\n",
       "car                     88\n",
       "vacation                70\n",
       "house                   60\n",
       "moving                  52\n",
       "renewable_energy         8\n",
       "wedding                  1\n",
       "Name: purpose, dtype: int64"
      ]
     },
     "execution_count": 66,
     "metadata": {},
     "output_type": "execute_result"
    }
   ],
   "source": [
    "data['purpose'].value_counts()"
   ]
  },
  {
   "cell_type": "code",
   "execution_count": 67,
   "id": "86826aec",
   "metadata": {},
   "outputs": [],
   "source": [
    "#creating \"other\" category for purposes with less than 80 occurrances\n",
    "cutoff = data['purpose'].value_counts() < 80\n",
    "\n",
    "\n",
    "mask_obs = data['purpose'].value_counts()[cutoff].index\n",
    "mask_dict = dict.fromkeys(mask_obs, 'other')\n",
    "\n",
    "data['purpose'] = data['purpose'].replace(mask_dict)"
   ]
  },
  {
   "cell_type": "code",
   "execution_count": 68,
   "id": "25909ff6",
   "metadata": {},
   "outputs": [
    {
     "data": {
      "text/plain": [
       "debt_consolidation    5429\n",
       "credit_card           2235\n",
       "other                  718\n",
       "home_improvement       640\n",
       "major_purchase         242\n",
       "small_business         141\n",
       "medical                103\n",
       "car                     88\n",
       "Name: purpose, dtype: int64"
      ]
     },
     "execution_count": 68,
     "metadata": {},
     "output_type": "execute_result"
    }
   ],
   "source": [
    "data['purpose'].value_counts()"
   ]
  },
  {
   "cell_type": "code",
   "execution_count": 69,
   "id": "37075bff",
   "metadata": {},
   "outputs": [
    {
     "data": {
      "text/plain": [
       "<AxesSubplot:xlabel='hi_int_prncp_pd', ylabel='purpose'>"
      ]
     },
     "execution_count": 69,
     "metadata": {},
     "output_type": "execute_result"
    },
    {
     "data": {
      "image/png": "[encoded data removed]",
      "text/plain": [
       "<Figure size 432x288 with 1 Axes>"
      ]
     },
     "metadata": {
      "needs_background": "light"
     },
     "output_type": "display_data"
    }
   ],
   "source": [
    "sns.barplot(data = data, x = \"hi_int_prncp_pd\", y = \"purpose\")"
   ]
  },
  {
   "cell_type": "code",
   "execution_count": 70,
   "id": "c5437abb",
   "metadata": {},
   "outputs": [
    {
     "data": {
      "text/plain": [
       "C1    632\n",
       "B5    600\n",
       "B1    578\n",
       "B2    577\n",
       "B3    559\n",
       "C3    551\n",
       "B4    547\n",
       "A5    538\n",
       "C4    513\n",
       "C2    509\n",
       "C5    503\n",
       "A4    486\n",
       "A1    428\n",
       "A3    390\n",
       "A2    356\n",
       "D1    289\n",
       "D2    270\n",
       "D3    225\n",
       "D4    212\n",
       "D5    168\n",
       "E1    121\n",
       "E2     96\n",
       "E4     88\n",
       "E3     81\n",
       "E5     77\n",
       "F1     57\n",
       "F2     35\n",
       "F3     29\n",
       "F4     18\n",
       "F5     17\n",
       "G1     15\n",
       "G3     11\n",
       "G5      9\n",
       "G2      7\n",
       "G4      4\n",
       "Name: sub_grade, dtype: int64"
      ]
     },
     "execution_count": 70,
     "metadata": {},
     "output_type": "execute_result"
    }
   ],
   "source": [
    "data['sub_grade'].value_counts()"
   ]
  },
  {
   "cell_type": "code",
   "execution_count": 71,
   "id": "462006d1",
   "metadata": {},
   "outputs": [
    {
     "data": {
      "text/plain": [
       "36 months    6957\n",
       "60 months    2639\n",
       "Name: term, dtype: int64"
      ]
     },
     "execution_count": 71,
     "metadata": {},
     "output_type": "execute_result"
    }
   ],
   "source": [
    "data['term'].value_counts()"
   ]
  },
  {
   "cell_type": "code",
   "execution_count": 72,
   "id": "203763c5",
   "metadata": {
    "scrolled": true
   },
   "outputs": [
    {
     "data": {
      "text/plain": [
       "<AxesSubplot:xlabel='hi_int_prncp_pd', ylabel='term'>"
      ]
     },
     "execution_count": 72,
     "metadata": {},
     "output_type": "execute_result"
    },
    {
     "data": {
      "image/png": "[encoded data removed]",
      "text/plain": [
       "<Figure size 432x288 with 1 Axes>"
      ]
     },
     "metadata": {
      "needs_background": "light"
     },
     "output_type": "display_data"
    }
   ],
   "source": [
    "sns.barplot(data = data, x = \"hi_int_prncp_pd\", y = \"term\")"
   ]
  },
  {
   "cell_type": "code",
   "execution_count": 73,
   "id": "12e9ab69",
   "metadata": {},
   "outputs": [
    {
     "data": {
      "text/plain": [
       "<AxesSubplot:xlabel='tot_coll_amt', ylabel='hi_int_prncp_pd'>"
      ]
     },
     "execution_count": 73,
     "metadata": {},
     "output_type": "execute_result"
    },
    {
     "data": {
      "image/png": "[encoded data removed]",
      "text/plain": [
       "<Figure size 432x288 with 1 Axes>"
      ]
     },
     "metadata": {
      "needs_background": "light"
     },
     "output_type": "display_data"
    }
   ],
   "source": [
    "sns.scatterplot(data = data, x = \"tot_coll_amt\", y = \"hi_int_prncp_pd\")"
   ]
  },
  {
   "cell_type": "code",
   "execution_count": 74,
   "id": "491b2a5a",
   "metadata": {},
   "outputs": [
    {
     "data": {
      "text/plain": [
       "<AxesSubplot:xlabel='hi_int_prncp_pd', ylabel='tot_coll_amt'>"
      ]
     },
     "execution_count": 74,
     "metadata": {},
     "output_type": "execute_result"
    },
    {
     "data": {
      "image/png": "[encoded data removed]",
      "text/plain": [
       "<Figure size 432x288 with 1 Axes>"
      ]
     },
     "metadata": {
      "needs_background": "light"
     },
     "output_type": "display_data"
    }
   ],
   "source": [
    "sns.barplot(data = data, x = \"hi_int_prncp_pd\", y = \"tot_coll_amt\")"
   ]
  },
  {
   "cell_type": "code",
   "execution_count": 75,
   "id": "5c2075e4",
   "metadata": {},
   "outputs": [
    {
     "data": {
      "text/plain": [
       "<AxesSubplot:xlabel='tot_cur_bal', ylabel='hi_int_prncp_pd'>"
      ]
     },
     "execution_count": 75,
     "metadata": {},
     "output_type": "execute_result"
    },
    {
     "data": {
      "image/png": "[encoded data removed]",
      "text/plain": [
       "<Figure size 432x288 with 1 Axes>"
      ]
     },
     "metadata": {
      "needs_background": "light"
     },
     "output_type": "display_data"
    }
   ],
   "source": [
    "sns.scatterplot(data = data, x = \"tot_cur_bal\", y = \"hi_int_prncp_pd\")"
   ]
  },
  {
   "cell_type": "code",
   "execution_count": 76,
   "id": "8202d81d",
   "metadata": {},
   "outputs": [
    {
     "data": {
      "text/plain": [
       "<AxesSubplot:xlabel='hi_int_prncp_pd', ylabel='tot_cur_bal'>"
      ]
     },
     "execution_count": 76,
     "metadata": {},
     "output_type": "execute_result"
    },
    {
     "data": {
      "image/png": "[encoded data removed]",
      "text/plain": [
       "<Figure size 432x288 with 1 Axes>"
      ]
     },
     "metadata": {
      "needs_background": "light"
     },
     "output_type": "display_data"
    }
   ],
   "source": [
    "sns.barplot(data = data, x = \"hi_int_prncp_pd\", y = \"tot_cur_bal\")"
   ]
  },
  {
   "cell_type": "code",
   "execution_count": 77,
   "id": "13996197",
   "metadata": {
    "scrolled": true
   },
   "outputs": [
    {
     "data": {
      "text/plain": [
       "<AxesSubplot:xlabel='total_rec_late_fee', ylabel='hi_int_prncp_pd'>"
      ]
     },
     "execution_count": 77,
     "metadata": {},
     "output_type": "execute_result"
    },
    {
     "data": {
      "image/png": "[encoded data removed]",
      "text/plain": [
       "<Figure size 432x288 with 1 Axes>"
      ]
     },
     "metadata": {
      "needs_background": "light"
     },
     "output_type": "display_data"
    }
   ],
   "source": [
    "sns.scatterplot(data = data, x = \"total_rec_late_fee\", y = \"hi_int_prncp_pd\")"
   ]
  },
  {
   "cell_type": "code",
   "execution_count": 78,
   "id": "a1c9daa2",
   "metadata": {
    "scrolled": true
   },
   "outputs": [
    {
     "data": {
      "text/plain": [
       "<AxesSubplot:xlabel='hi_int_prncp_pd', ylabel='total_rec_late_fee'>"
      ]
     },
     "execution_count": 78,
     "metadata": {},
     "output_type": "execute_result"
    },
    {
     "data": {
      "image/png": "[encoded data removed]",
      "text/plain": [
       "<Figure size 432x288 with 1 Axes>"
      ]
     },
     "metadata": {
      "needs_background": "light"
     },
     "output_type": "display_data"
    }
   ],
   "source": [
    "sns.barplot(data = data, x = \"hi_int_prncp_pd\", y = \"total_rec_late_fee\")"
   ]
  },
  {
   "cell_type": "code",
   "execution_count": 79,
   "id": "683c8e65",
   "metadata": {
    "scrolled": true
   },
   "outputs": [
    {
     "data": {
      "text/plain": [
       "<AxesSubplot:xlabel='hi_int_prncp_pd', ylabel='verification_status'>"
      ]
     },
     "execution_count": 79,
     "metadata": {},
     "output_type": "execute_result"
    },
    {
     "data": {
      "image/png": "[encoded data removed]",
      "text/plain": [
       "<Figure size 432x288 with 1 Axes>"
      ]
     },
     "metadata": {
      "needs_background": "light"
     },
     "output_type": "display_data"
    }
   ],
   "source": [
    "sns.barplot(data = data, x = \"hi_int_prncp_pd\", y = \"verification_status\")"
   ]
  },
  {
   "cell_type": "markdown",
   "id": "745de5dd",
   "metadata": {},
   "source": [
    "# Variable Selection"
   ]
  },
  {
   "cell_type": "code",
   "execution_count": 80,
   "id": "844a1cc3",
   "metadata": {},
   "outputs": [],
   "source": [
    "#drop pass 1 - low variance and/or uncorrelated with response\n",
    "data = data.drop(columns = ['acc_now_delinq', 'acc_open_past_24mths', 'application_type', 'avg_cur_bal', 'bc_util', 'delinq_2yrs', 'delinq_amnt', 'earliest_cr_line', 'mort_acc', 'num_sats', 'num_tl_120dpd_2m', 'num_tl_30dpd', 'num_tl_90g_dpd_24m', 'sub_grade', 'tot_cur_bal'])"
   ]
  },
  {
   "cell_type": "code",
   "execution_count": 81,
   "id": "2de77f5b",
   "metadata": {},
   "outputs": [],
   "source": [
    "#drop pass 2 - unimportant predictors from initial models\n",
    "data = data.drop(columns = ['last_credit_pull_d', 'home_ownership', 'pub_rec_bankruptcies', 'pub_rec', 'addr_state', 'verification_status', 'total_rec_late_fee', 'purpose'])"
   ]
  },
  {
   "cell_type": "code",
   "execution_count": 82,
   "id": "91cfd489",
   "metadata": {},
   "outputs": [],
   "source": [
    "#drop pass 3 - only including a few very important predictors\n",
    "data = data.drop(columns = ['tot_coll_amt', 'grade', 'emp_length', 'emp_title', 'annual_inc'])"
   ]
  },
  {
   "cell_type": "markdown",
   "id": "9b0451db",
   "metadata": {},
   "source": [
    "# Final Model Tuning"
   ]
  },
  {
   "cell_type": "code",
   "execution_count": 83,
   "id": "0f4947eb",
   "metadata": {},
   "outputs": [],
   "source": [
    "data = pd.get_dummies(data)"
   ]
  },
  {
   "cell_type": "code",
   "execution_count": 84,
   "id": "be5f333a",
   "metadata": {},
   "outputs": [],
   "source": [
    "#re-splitting train/test data\n",
    "train = data.iloc[0:5778, :]"
   ]
  },
  {
   "cell_type": "code",
   "execution_count": 85,
   "id": "28bc0572",
   "metadata": {},
   "outputs": [],
   "source": [
    "test = data.iloc[5778:, :]"
   ]
  },
  {
   "cell_type": "code",
   "execution_count": 86,
   "id": "419e2e9d",
   "metadata": {},
   "outputs": [
    {
     "name": "stderr",
     "output_type": "stream",
     "text": [
      "<ipython-input-86-fe1fb7e28580>:1: SettingWithCopyWarning: \n",
      "A value is trying to be set on a copy of a slice from a DataFrame.\n",
      "Try using .loc[row_indexer,col_indexer] = value instead\n",
      "\n",
      "See the caveats in the documentation: https://pandas.pydata.org/pandas-docs/stable/user_guide/indexing.html#returning-a-view-versus-a-copy\n",
      "  train['hi_int_prncp_pd'] = train['hi_int_prncp_pd'].astype(int)\n"
     ]
    }
   ],
   "source": [
    "train['hi_int_prncp_pd'] = train['hi_int_prncp_pd'].astype(int)"
   ]
  },
  {
   "cell_type": "code",
   "execution_count": 87,
   "id": "e21e3471",
   "metadata": {},
   "outputs": [],
   "source": [
    "X = train.drop(columns = ['id', 'hi_int_prncp_pd'])\n",
    "y = train['hi_int_prncp_pd']"
   ]
  },
  {
   "cell_type": "code",
   "execution_count": 88,
   "id": "4f198ea4",
   "metadata": {},
   "outputs": [],
   "source": [
    "Xtest = test.drop(columns = ['id', 'hi_int_prncp_pd'])"
   ]
  },
  {
   "cell_type": "markdown",
   "id": "c01000a5",
   "metadata": {},
   "source": [
    "## XGboost"
   ]
  },
  {
   "cell_type": "code",
   "execution_count": 617,
   "id": "36391a7e",
   "metadata": {},
   "outputs": [
    {
     "name": "stdout",
     "output_type": "stream",
     "text": [
      "Fitting 5 folds for each of 72 candidates, totalling 360 fits\n",
      "{'gamma': 0.25, 'learning_rate': 0.01, 'max_depth': 7, 'n_estimators': 500, 'reg_lambda': 0.001, 'scale_pos_weight': 1.25} 0.9165805359576986\n",
      "Time taken =  1.7330790440241495  minutes\n"
     ]
    }
   ],
   "source": [
    "start_time = time.time()\n",
    "param_grid = {'n_estimators':[500],\n",
    "                'max_depth': [7,8],\n",
    "              'learning_rate': [0.01,0.1],\n",
    "               'gamma': [0.1,0.25,0.5],\n",
    "               'reg_lambda':[0,0.01,0.001],\n",
    "                'scale_pos_weight':[1.25,1.5]\n",
    "             }\n",
    "\n",
    "cv = StratifiedKFold(n_splits=5,shuffle=True,random_state=1)\n",
    "optimal_params = GridSearchCV(estimator=xgb.XGBClassifier(objective = 'binary:logistic',random_state=1,\n",
    "                                                         use_label_encoder=False),\n",
    "                             param_grid = param_grid,\n",
    "                             scoring = 'accuracy',\n",
    "                             verbose = 1,\n",
    "                             n_jobs=-1,\n",
    "                             cv = cv)\n",
    "optimal_params.fit(X,y)\n",
    "print(optimal_params.best_params_,optimal_params.best_score_)\n",
    "print(\"Time taken = \", (time.time()-start_time)/60, \" minutes\")"
   ]
  },
  {
   "cell_type": "code",
   "execution_count": 89,
   "id": "a74da107",
   "metadata": {
    "scrolled": true
   },
   "outputs": [
    {
     "name": "stderr",
     "output_type": "stream",
     "text": [
      "C:\\Users\\alexk\\anaconda3\\lib\\site-packages\\xgboost\\sklearn.py:793: UserWarning: `eval_metric` in `fit` method is deprecated for better compatibility with scikit-learn, use `eval_metric` in constructor or`set_params` instead.\n",
      "  warnings.warn(\n"
     ]
    },
    {
     "data": {
      "text/plain": [
       "XGBClassifier(base_score=0.5, booster='gbtree', callbacks=None,\n",
       "              colsample_bylevel=1, colsample_bynode=1, colsample_bytree=1,\n",
       "              early_stopping_rounds=None, enable_categorical=False,\n",
       "              eval_metric=None, gamma=0.25, gpu_id=-1, grow_policy='depthwise',\n",
       "              importance_type=None, interaction_constraints='',\n",
       "              learning_rate=0.01, max_bin=256, max_cat_to_onehot=4,\n",
       "              max_delta_step=0, max_depth=7, max_leaves=0, min_child_weight=1,\n",
       "              missing=nan, monotone_constraints='()', n_estimators=500,\n",
       "              n_jobs=0, num_parallel_tree=1, predictor='auto', random_state=1,\n",
       "              reg_alpha=0, reg_lambda=0.001, ...)"
      ]
     },
     "execution_count": 89,
     "metadata": {},
     "output_type": "execute_result"
    }
   ],
   "source": [
    "model1 = xgb.XGBClassifier(objective = 'binary:logistic',random_state=1,gamma=0.25,learning_rate = 0.01,max_depth=7,\n",
    "                              n_estimators = 500,reg_lambda = 0.001,scale_pos_weight=1.25,use_label_encoder=False)\n",
    "model1.fit(X,y,eval_metric='error')"
   ]
  },
  {
   "cell_type": "code",
   "execution_count": 90,
   "id": "a14509a6",
   "metadata": {},
   "outputs": [
    {
     "data": {
      "text/html": [
       "<div>\n",
       "<style scoped>\n",
       "    .dataframe tbody tr th:only-of-type {\n",
       "        vertical-align: middle;\n",
       "    }\n",
       "\n",
       "    .dataframe tbody tr th {\n",
       "        vertical-align: top;\n",
       "    }\n",
       "\n",
       "    .dataframe thead th {\n",
       "        text-align: right;\n",
       "    }\n",
       "</style>\n",
       "<table border=\"1\" class=\"dataframe\">\n",
       "  <thead>\n",
       "    <tr style=\"text-align: right;\">\n",
       "      <th></th>\n",
       "      <th>0</th>\n",
       "    </tr>\n",
       "  </thead>\n",
       "  <tbody>\n",
       "    <tr>\n",
       "      <th>term_36 months</th>\n",
       "      <td>30.040354</td>\n",
       "    </tr>\n",
       "    <tr>\n",
       "      <th>out_prncp_inv</th>\n",
       "      <td>22.073624</td>\n",
       "    </tr>\n",
       "    <tr>\n",
       "      <th>int_rate</th>\n",
       "      <td>10.399719</td>\n",
       "    </tr>\n",
       "    <tr>\n",
       "      <th>initial_list_status_f</th>\n",
       "      <td>2.949966</td>\n",
       "    </tr>\n",
       "    <tr>\n",
       "      <th>loan_amnt</th>\n",
       "      <td>2.918621</td>\n",
       "    </tr>\n",
       "    <tr>\n",
       "      <th>dti</th>\n",
       "      <td>2.443602</td>\n",
       "    </tr>\n",
       "  </tbody>\n",
       "</table>\n",
       "</div>"
      ],
      "text/plain": [
       "                               0\n",
       "term_36 months         30.040354\n",
       "out_prncp_inv          22.073624\n",
       "int_rate               10.399719\n",
       "initial_list_status_f   2.949966\n",
       "loan_amnt               2.918621\n",
       "dti                     2.443602"
      ]
     },
     "execution_count": 90,
     "metadata": {},
     "output_type": "execute_result"
    }
   ],
   "source": [
    "#finding feature importances of boosted model\n",
    "imp_dict = model1.get_booster().get_score(importance_type=\"gain\")\n",
    "pd.DataFrame.from_dict(imp_dict, orient='index').sort_values(by=0, ascending = False).iloc[0:10, :]"
   ]
  },
  {
   "cell_type": "markdown",
   "id": "d231c9a2",
   "metadata": {},
   "source": [
    "## Random Forest"
   ]
  },
  {
   "cell_type": "code",
   "execution_count": 621,
   "id": "a6b7065e",
   "metadata": {},
   "outputs": [
    {
     "name": "stdout",
     "output_type": "stream",
     "text": [
      "max accuracy =  91.6926272066459\n",
      "params=  (500, 1)\n",
      "Time taken =  0.1802238424619039  minutes\n"
     ]
    }
   ],
   "source": [
    "start_time = time.time()\n",
    "\n",
    "params = {'n_estimators': [500, 1000],\n",
    "          'max_features': [1, 2, 3]\n",
    "         }\n",
    "\n",
    "param_list=list(it.product(*(params[Name] for Name in list(params.keys()))))\n",
    "accuracy = [0]*len(param_list)\n",
    "\n",
    "i=0\n",
    "for pr in param_list:\n",
    "    model = RandomForestClassifier(random_state=1,oob_score=True,verbose=False,n_estimators = pr[0],max_features=pr[1], n_jobs=-1).fit(X,y)\n",
    "    oob_pred = model.oob_decision_function_[:,1]\n",
    "    bins=np.array([0,0.5,1])\n",
    "    cm = np.histogram2d(y, oob_pred, bins=bins)[0]\n",
    "    accuracy = 100*(cm[0,0]+cm[1,1])/cm.sum()\n",
    "    i=i+1\n",
    "    \n",
    "print(\"max accuracy = \", np.max(accuracy))\n",
    "print(\"params= \", param_list[np.argmax(accuracy)])\n",
    "\n",
    "print(\"Time taken = \", (time.time()-start_time)/60, \" minutes\")"
   ]
  },
  {
   "cell_type": "code",
   "execution_count": 91,
   "id": "224d2bb4",
   "metadata": {},
   "outputs": [],
   "source": [
    "model2 = RandomForestClassifier(random_state=1,\n",
    "                               n_jobs=-1,\n",
    "                               max_features=1,\n",
    "                               n_estimators=500).fit(X, y)"
   ]
  },
  {
   "cell_type": "code",
   "execution_count": 92,
   "id": "278c7da0",
   "metadata": {
    "scrolled": false
   },
   "outputs": [
    {
     "data": {
      "text/html": [
       "<div>\n",
       "<style scoped>\n",
       "    .dataframe tbody tr th:only-of-type {\n",
       "        vertical-align: middle;\n",
       "    }\n",
       "\n",
       "    .dataframe tbody tr th {\n",
       "        vertical-align: top;\n",
       "    }\n",
       "\n",
       "    .dataframe thead th {\n",
       "        text-align: right;\n",
       "    }\n",
       "</style>\n",
       "<table border=\"1\" class=\"dataframe\">\n",
       "  <thead>\n",
       "    <tr style=\"text-align: right;\">\n",
       "      <th></th>\n",
       "      <th>0</th>\n",
       "      <th>1</th>\n",
       "    </tr>\n",
       "  </thead>\n",
       "  <tbody>\n",
       "    <tr>\n",
       "      <th>3</th>\n",
       "      <td>out_prncp_inv</td>\n",
       "      <td>0.480870</td>\n",
       "    </tr>\n",
       "    <tr>\n",
       "      <th>1</th>\n",
       "      <td>int_rate</td>\n",
       "      <td>0.189386</td>\n",
       "    </tr>\n",
       "    <tr>\n",
       "      <th>0</th>\n",
       "      <td>dti</td>\n",
       "      <td>0.135970</td>\n",
       "    </tr>\n",
       "    <tr>\n",
       "      <th>2</th>\n",
       "      <td>loan_amnt</td>\n",
       "      <td>0.095514</td>\n",
       "    </tr>\n",
       "    <tr>\n",
       "      <th>6</th>\n",
       "      <td>term_36 months</td>\n",
       "      <td>0.042167</td>\n",
       "    </tr>\n",
       "    <tr>\n",
       "      <th>7</th>\n",
       "      <td>term_60 months</td>\n",
       "      <td>0.040583</td>\n",
       "    </tr>\n",
       "    <tr>\n",
       "      <th>5</th>\n",
       "      <td>initial_list_status_w</td>\n",
       "      <td>0.007853</td>\n",
       "    </tr>\n",
       "    <tr>\n",
       "      <th>4</th>\n",
       "      <td>initial_list_status_f</td>\n",
       "      <td>0.007658</td>\n",
       "    </tr>\n",
       "  </tbody>\n",
       "</table>\n",
       "</div>"
      ],
      "text/plain": [
       "                       0         1\n",
       "3          out_prncp_inv  0.480870\n",
       "1               int_rate  0.189386\n",
       "0                    dti  0.135970\n",
       "2              loan_amnt  0.095514\n",
       "6         term_36 months  0.042167\n",
       "7         term_60 months  0.040583\n",
       "5  initial_list_status_w  0.007853\n",
       "4  initial_list_status_f  0.007658"
      ]
     },
     "execution_count": 92,
     "metadata": {},
     "output_type": "execute_result"
    }
   ],
   "source": [
    "#finding feature importances of random forest model\n",
    "feature_importances = np.mean([\n",
    "    tree.feature_importances_ for tree in model2.estimators_\n",
    "], axis=0)\n",
    "\n",
    "importances = pd.concat([pd.Series(X.columns), pd.Series(feature_importances)], axis = 1)\n",
    "\n",
    "importances.sort_values(by=1, ascending = False).iloc[0:10, :]"
   ]
  },
  {
   "cell_type": "markdown",
   "id": "ce1f65bd",
   "metadata": {},
   "source": [
    "## Voting Ensemble"
   ]
  },
  {
   "cell_type": "code",
   "execution_count": 93,
   "id": "acadf1d6",
   "metadata": {},
   "outputs": [
    {
     "data": {
      "text/plain": [
       "VotingClassifier(estimators=[('xgb',\n",
       "                              XGBClassifier(base_score=0.5, booster='gbtree',\n",
       "                                            callbacks=None, colsample_bylevel=1,\n",
       "                                            colsample_bynode=1,\n",
       "                                            colsample_bytree=1,\n",
       "                                            early_stopping_rounds=None,\n",
       "                                            enable_categorical=False,\n",
       "                                            eval_metric=None, gamma=0.25,\n",
       "                                            gpu_id=-1, grow_policy='depthwise',\n",
       "                                            importance_type=None,\n",
       "                                            interaction_constraints='',\n",
       "                                            learning_rate=0.01, max_bin=256,\n",
       "                                            max_cat_to_onehot=4,\n",
       "                                            max_delta_step=0, max_depth=7,\n",
       "                                            max_leaves=0, min_child_weight=1,\n",
       "                                            missing=nan,\n",
       "                                            monotone_constraints='()',\n",
       "                                            n_estimators=500, n_jobs=0,\n",
       "                                            num_parallel_tree=1,\n",
       "                                            predictor='auto', random_state=1,\n",
       "                                            reg_alpha=0, reg_lambda=0.001, ...)),\n",
       "                             ('rf',\n",
       "                              RandomForestClassifier(max_features=1,\n",
       "                                                     n_estimators=500,\n",
       "                                                     n_jobs=-1,\n",
       "                                                     random_state=1))],\n",
       "                 voting='soft')"
      ]
     },
     "execution_count": 93,
     "metadata": {},
     "output_type": "execute_result"
    }
   ],
   "source": [
    "ensemble_model = VotingClassifier(estimators=[('xgb', model1),('rf',model2)], voting = 'soft')\n",
    "ensemble_model.fit(X,y)"
   ]
  },
  {
   "cell_type": "code",
   "execution_count": 94,
   "id": "7348f058",
   "metadata": {},
   "outputs": [],
   "source": [
    "pred = ensemble_model.predict(Xtest)"
   ]
  },
  {
   "cell_type": "markdown",
   "id": "15c50366",
   "metadata": {},
   "source": [
    "# Submission file"
   ]
  },
  {
   "cell_type": "code",
   "execution_count": 95,
   "id": "005737ac",
   "metadata": {},
   "outputs": [],
   "source": [
    "classification_submission = pd.DataFrame(pred)"
   ]
  },
  {
   "cell_type": "code",
   "execution_count": 96,
   "id": "7e97b755",
   "metadata": {},
   "outputs": [],
   "source": [
    "classification_submission['id'] = test.id"
   ]
  },
  {
   "cell_type": "code",
   "execution_count": 97,
   "id": "a2dd51e5",
   "metadata": {},
   "outputs": [],
   "source": [
    "classification_submission = classification_submission[['id', 0]]"
   ]
  },
  {
   "cell_type": "code",
   "execution_count": 98,
   "id": "8da7c992",
   "metadata": {},
   "outputs": [],
   "source": [
    "classification_submission = classification_submission.rename(columns = {0:'Category'})"
   ]
  },
  {
   "cell_type": "code",
   "execution_count": 99,
   "id": "36ae7125",
   "metadata": {},
   "outputs": [],
   "source": [
    "classification_submission.to_csv('classification_submission.csv', index = False)"
   ]
  }
 ],
 "metadata": {
  "kernelspec": {
   "display_name": "Python 3",
   "language": "python",
   "name": "python3"
  },
  "language_info": {
   "codemirror_mode": {
    "name": "ipython",
    "version": 3
   },
   "file_extension": ".py",
   "mimetype": "text/x-python",
   "name": "python",
   "nbconvert_exporter": "python",
   "pygments_lexer": "ipython3",
   "version": "3.8.8"
  }
 },
 "nbformat": 4,
 "nbformat_minor": 5
}
